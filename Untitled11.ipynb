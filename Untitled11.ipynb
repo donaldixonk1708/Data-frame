{
  "nbformat": 4,
  "nbformat_minor": 0,
  "metadata": {
    "colab": {
      "provenance": [],
      "authorship_tag": "ABX9TyN7h7SGL90ArfNLvg6vHsvX",
      "include_colab_link": true
    },
    "kernelspec": {
      "name": "python3",
      "display_name": "Python 3"
    },
    "language_info": {
      "name": "python"
    }
  },
  "cells": [
    {
      "cell_type": "markdown",
      "metadata": {
        "id": "view-in-github",
        "colab_type": "text"
      },
      "source": [
        "<a href=\"https://colab.research.google.com/github/donaldixonk1708/Data-frame/blob/main/Untitled11.ipynb\" target=\"_parent\"><img src=\"https://colab.research.google.com/assets/colab-badge.svg\" alt=\"Open In Colab\"/></a>"
      ]
    },
    {
      "cell_type": "code",
      "execution_count": 1,
      "metadata": {
        "id": "NsiTJ-ivwDXR",
        "colab": {
          "base_uri": "https://localhost:8080/",
          "height": 73
        },
        "outputId": "2f7b3e83-4ff4-4014-f59d-64907f394ca9"
      },
      "outputs": [
        {
          "output_type": "display_data",
          "data": {
            "text/plain": [
              "<IPython.core.display.HTML object>"
            ],
            "text/html": [
              "\n",
              "     <input type=\"file\" id=\"files-c6e4a9f0-1229-4e37-b133-058ffc469cd3\" name=\"files[]\" multiple disabled\n",
              "        style=\"border:none\" />\n",
              "     <output id=\"result-c6e4a9f0-1229-4e37-b133-058ffc469cd3\">\n",
              "      Upload widget is only available when the cell has been executed in the\n",
              "      current browser session. Please rerun this cell to enable.\n",
              "      </output>\n",
              "      <script>// Copyright 2017 Google LLC\n",
              "//\n",
              "// Licensed under the Apache License, Version 2.0 (the \"License\");\n",
              "// you may not use this file except in compliance with the License.\n",
              "// You may obtain a copy of the License at\n",
              "//\n",
              "//      http://www.apache.org/licenses/LICENSE-2.0\n",
              "//\n",
              "// Unless required by applicable law or agreed to in writing, software\n",
              "// distributed under the License is distributed on an \"AS IS\" BASIS,\n",
              "// WITHOUT WARRANTIES OR CONDITIONS OF ANY KIND, either express or implied.\n",
              "// See the License for the specific language governing permissions and\n",
              "// limitations under the License.\n",
              "\n",
              "/**\n",
              " * @fileoverview Helpers for google.colab Python module.\n",
              " */\n",
              "(function(scope) {\n",
              "function span(text, styleAttributes = {}) {\n",
              "  const element = document.createElement('span');\n",
              "  element.textContent = text;\n",
              "  for (const key of Object.keys(styleAttributes)) {\n",
              "    element.style[key] = styleAttributes[key];\n",
              "  }\n",
              "  return element;\n",
              "}\n",
              "\n",
              "// Max number of bytes which will be uploaded at a time.\n",
              "const MAX_PAYLOAD_SIZE = 100 * 1024;\n",
              "\n",
              "function _uploadFiles(inputId, outputId) {\n",
              "  const steps = uploadFilesStep(inputId, outputId);\n",
              "  const outputElement = document.getElementById(outputId);\n",
              "  // Cache steps on the outputElement to make it available for the next call\n",
              "  // to uploadFilesContinue from Python.\n",
              "  outputElement.steps = steps;\n",
              "\n",
              "  return _uploadFilesContinue(outputId);\n",
              "}\n",
              "\n",
              "// This is roughly an async generator (not supported in the browser yet),\n",
              "// where there are multiple asynchronous steps and the Python side is going\n",
              "// to poll for completion of each step.\n",
              "// This uses a Promise to block the python side on completion of each step,\n",
              "// then passes the result of the previous step as the input to the next step.\n",
              "function _uploadFilesContinue(outputId) {\n",
              "  const outputElement = document.getElementById(outputId);\n",
              "  const steps = outputElement.steps;\n",
              "\n",
              "  const next = steps.next(outputElement.lastPromiseValue);\n",
              "  return Promise.resolve(next.value.promise).then((value) => {\n",
              "    // Cache the last promise value to make it available to the next\n",
              "    // step of the generator.\n",
              "    outputElement.lastPromiseValue = value;\n",
              "    return next.value.response;\n",
              "  });\n",
              "}\n",
              "\n",
              "/**\n",
              " * Generator function which is called between each async step of the upload\n",
              " * process.\n",
              " * @param {string} inputId Element ID of the input file picker element.\n",
              " * @param {string} outputId Element ID of the output display.\n",
              " * @return {!Iterable<!Object>} Iterable of next steps.\n",
              " */\n",
              "function* uploadFilesStep(inputId, outputId) {\n",
              "  const inputElement = document.getElementById(inputId);\n",
              "  inputElement.disabled = false;\n",
              "\n",
              "  const outputElement = document.getElementById(outputId);\n",
              "  outputElement.innerHTML = '';\n",
              "\n",
              "  const pickedPromise = new Promise((resolve) => {\n",
              "    inputElement.addEventListener('change', (e) => {\n",
              "      resolve(e.target.files);\n",
              "    });\n",
              "  });\n",
              "\n",
              "  const cancel = document.createElement('button');\n",
              "  inputElement.parentElement.appendChild(cancel);\n",
              "  cancel.textContent = 'Cancel upload';\n",
              "  const cancelPromise = new Promise((resolve) => {\n",
              "    cancel.onclick = () => {\n",
              "      resolve(null);\n",
              "    };\n",
              "  });\n",
              "\n",
              "  // Wait for the user to pick the files.\n",
              "  const files = yield {\n",
              "    promise: Promise.race([pickedPromise, cancelPromise]),\n",
              "    response: {\n",
              "      action: 'starting',\n",
              "    }\n",
              "  };\n",
              "\n",
              "  cancel.remove();\n",
              "\n",
              "  // Disable the input element since further picks are not allowed.\n",
              "  inputElement.disabled = true;\n",
              "\n",
              "  if (!files) {\n",
              "    return {\n",
              "      response: {\n",
              "        action: 'complete',\n",
              "      }\n",
              "    };\n",
              "  }\n",
              "\n",
              "  for (const file of files) {\n",
              "    const li = document.createElement('li');\n",
              "    li.append(span(file.name, {fontWeight: 'bold'}));\n",
              "    li.append(span(\n",
              "        `(${file.type || 'n/a'}) - ${file.size} bytes, ` +\n",
              "        `last modified: ${\n",
              "            file.lastModifiedDate ? file.lastModifiedDate.toLocaleDateString() :\n",
              "                                    'n/a'} - `));\n",
              "    const percent = span('0% done');\n",
              "    li.appendChild(percent);\n",
              "\n",
              "    outputElement.appendChild(li);\n",
              "\n",
              "    const fileDataPromise = new Promise((resolve) => {\n",
              "      const reader = new FileReader();\n",
              "      reader.onload = (e) => {\n",
              "        resolve(e.target.result);\n",
              "      };\n",
              "      reader.readAsArrayBuffer(file);\n",
              "    });\n",
              "    // Wait for the data to be ready.\n",
              "    let fileData = yield {\n",
              "      promise: fileDataPromise,\n",
              "      response: {\n",
              "        action: 'continue',\n",
              "      }\n",
              "    };\n",
              "\n",
              "    // Use a chunked sending to avoid message size limits. See b/62115660.\n",
              "    let position = 0;\n",
              "    do {\n",
              "      const length = Math.min(fileData.byteLength - position, MAX_PAYLOAD_SIZE);\n",
              "      const chunk = new Uint8Array(fileData, position, length);\n",
              "      position += length;\n",
              "\n",
              "      const base64 = btoa(String.fromCharCode.apply(null, chunk));\n",
              "      yield {\n",
              "        response: {\n",
              "          action: 'append',\n",
              "          file: file.name,\n",
              "          data: base64,\n",
              "        },\n",
              "      };\n",
              "\n",
              "      let percentDone = fileData.byteLength === 0 ?\n",
              "          100 :\n",
              "          Math.round((position / fileData.byteLength) * 100);\n",
              "      percent.textContent = `${percentDone}% done`;\n",
              "\n",
              "    } while (position < fileData.byteLength);\n",
              "  }\n",
              "\n",
              "  // All done.\n",
              "  yield {\n",
              "    response: {\n",
              "      action: 'complete',\n",
              "    }\n",
              "  };\n",
              "}\n",
              "\n",
              "scope.google = scope.google || {};\n",
              "scope.google.colab = scope.google.colab || {};\n",
              "scope.google.colab._files = {\n",
              "  _uploadFiles,\n",
              "  _uploadFilesContinue,\n",
              "};\n",
              "})(self);\n",
              "</script> "
            ]
          },
          "metadata": {}
        },
        {
          "output_type": "stream",
          "name": "stdout",
          "text": [
            "Saving Supermarket_sales.csv to Supermarket_sales.csv\n"
          ]
        }
      ],
      "source": [
        "from google.colab import files \n",
        "supermarket=files.upload()"
      ]
    },
    {
      "cell_type": "code",
      "source": [
        "import pandas\n",
        "dataframe=pandas.read_csv(\"Supermarket_sales.csv\")\n",
        "print(dataframe)"
      ],
      "metadata": {
        "colab": {
          "base_uri": "https://localhost:8080/"
        },
        "id": "M5ojms9jw9V1",
        "outputId": "2f928fd1-b672-4ccb-dba9-825f2ae744ad"
      },
      "execution_count": 2,
      "outputs": [
        {
          "output_type": "stream",
          "name": "stdout",
          "text": [
            "       No    InvoiceID Branch       City Customertype  Gender  \\\n",
            "0       1  750-67-8428      A     Yangon       Member  Female   \n",
            "1       2  226-31-3081      C  Naypyitaw       Normal  Female   \n",
            "2       3  631-41-3108      A     Yangon       Normal    Male   \n",
            "3       4  123-19-1176      A     Yangon       Member    Male   \n",
            "4       5  373-73-7910      A     Yangon       Normal    Male   \n",
            "..    ...          ...    ...        ...          ...     ...   \n",
            "995   996  233-67-5758      C  Naypyitaw       Normal    Male   \n",
            "996   997  303-96-2227      B   Mandalay       Normal  Female   \n",
            "997   998  727-02-1313      A     Yangon       Member    Male   \n",
            "998   999  347-56-2442      A     Yangon       Normal    Male   \n",
            "999  1000  849-09-3807      A     Yangon       Member  Female   \n",
            "\n",
            "                Productline  Unitprice  Quantity      Tax      Total  \\\n",
            "0         Health and beauty      74.69         7  26.1415   548.9715   \n",
            "1    Electronic accessories      15.28         5   3.8200    80.2200   \n",
            "2        Home and lifestyle      46.33         7  16.2155   340.5255   \n",
            "3         Health and beauty      58.22         8  23.2880   489.0480   \n",
            "4         Sports and travel      86.31         7  30.2085   634.3785   \n",
            "..                      ...        ...       ...      ...        ...   \n",
            "995       Health and beauty      40.35         1   2.0175    42.3675   \n",
            "996      Home and lifestyle      97.38        10  48.6900  1022.4900   \n",
            "997      Food and beverages      31.84         1   1.5920    33.4320   \n",
            "998      Home and lifestyle      65.82         1   3.2910    69.1110   \n",
            "999     Fashion accessories      88.34         7  30.9190   649.2990   \n",
            "\n",
            "          Date   Time      Payment    cogs  gross_margin_percentage  \\\n",
            "0     1/5/2019  13:08      Ewallet  522.83                 4.761905   \n",
            "1     3/8/2019  10:29         Cash   76.40                 4.761905   \n",
            "2     3/3/2019  13:23  Credit card  324.31                 4.761905   \n",
            "3    1/27/2019  20:33      Ewallet  465.76                 4.761905   \n",
            "4     2/8/2019  10:37      Ewallet  604.17                 4.761905   \n",
            "..         ...    ...          ...     ...                      ...   \n",
            "995  1/29/2019  13:46      Ewallet   40.35                 4.761905   \n",
            "996   3/2/2019  17:16      Ewallet  973.80                 4.761905   \n",
            "997   2/9/2019  13:22         Cash   31.84                 4.761905   \n",
            "998  2/22/2019  15:33         Cash   65.82                 4.761905   \n",
            "999  2/18/2019  13:28         Cash  618.38                 4.761905   \n",
            "\n",
            "     gross_iincome  Rating  \n",
            "0          26.1415     9.1  \n",
            "1           3.8200     9.6  \n",
            "2          16.2155     7.4  \n",
            "3          23.2880     8.4  \n",
            "4          30.2085     5.3  \n",
            "..             ...     ...  \n",
            "995         2.0175     6.2  \n",
            "996        48.6900     4.4  \n",
            "997         1.5920     7.7  \n",
            "998         3.2910     4.1  \n",
            "999        30.9190     6.6  \n",
            "\n",
            "[1000 rows x 18 columns]\n"
          ]
        }
      ]
    },
    {
      "cell_type": "code",
      "source": [
        "print(dataframe.head(10))"
      ],
      "metadata": {
        "colab": {
          "base_uri": "https://localhost:8080/"
        },
        "id": "Piz1G6wtxz1g",
        "outputId": "df6809d8-c27f-44c2-a7ea-26141a19ada6"
      },
      "execution_count": 4,
      "outputs": [
        {
          "output_type": "stream",
          "name": "stdout",
          "text": [
            "   No    InvoiceID Branch       City Customertype  Gender  \\\n",
            "0   1  750-67-8428      A     Yangon       Member  Female   \n",
            "1   2  226-31-3081      C  Naypyitaw       Normal  Female   \n",
            "2   3  631-41-3108      A     Yangon       Normal    Male   \n",
            "3   4  123-19-1176      A     Yangon       Member    Male   \n",
            "4   5  373-73-7910      A     Yangon       Normal    Male   \n",
            "5   6  699-14-3026      C  Naypyitaw       Normal    Male   \n",
            "6   7  355-53-5943      A     Yangon       Member  Female   \n",
            "7   8  315-22-5665      C  Naypyitaw       Normal  Female   \n",
            "8   9  665-32-9167      A     Yangon       Member  Female   \n",
            "9  10  692-92-5582      B   Mandalay       Member  Female   \n",
            "\n",
            "              Productline  Unitprice  Quantity      Tax     Total       Date  \\\n",
            "0       Health and beauty      74.69         7  26.1415  548.9715   1/5/2019   \n",
            "1  Electronic accessories      15.28         5   3.8200   80.2200   3/8/2019   \n",
            "2      Home and lifestyle      46.33         7  16.2155  340.5255   3/3/2019   \n",
            "3       Health and beauty      58.22         8  23.2880  489.0480  1/27/2019   \n",
            "4       Sports and travel      86.31         7  30.2085  634.3785   2/8/2019   \n",
            "5  Electronic accessories      85.39         7  29.8865  627.6165  3/25/2019   \n",
            "6  Electronic accessories      68.84         6  20.6520  433.6920  2/25/2019   \n",
            "7      Home and lifestyle      73.56        10  36.7800  772.3800  2/24/2019   \n",
            "8       Health and beauty      36.26         2   3.6260   76.1460  1/10/2019   \n",
            "9      Food and beverages      54.84         3   8.2260  172.7460  2/20/2019   \n",
            "\n",
            "    Time      Payment    cogs  gross_margin_percentage  gross_iincome  Rating  \n",
            "0  13:08      Ewallet  522.83                 4.761905        26.1415     9.1  \n",
            "1  10:29         Cash   76.40                 4.761905         3.8200     9.6  \n",
            "2  13:23  Credit card  324.31                 4.761905        16.2155     7.4  \n",
            "3  20:33      Ewallet  465.76                 4.761905        23.2880     8.4  \n",
            "4  10:37      Ewallet  604.17                 4.761905        30.2085     5.3  \n",
            "5  18:30      Ewallet  597.73                 4.761905        29.8865     4.1  \n",
            "6  14:36      Ewallet  413.04                 4.761905        20.6520     5.8  \n",
            "7  11:38      Ewallet  735.60                 4.761905        36.7800     8.0  \n",
            "8  17:15  Credit card   72.52                 4.761905         3.6260     7.2  \n",
            "9  13:27  Credit card  164.52                 4.761905         8.2260     5.9  \n"
          ]
        }
      ]
    },
    {
      "cell_type": "code",
      "source": [
        "print(dataframe.tail(8))"
      ],
      "metadata": {
        "colab": {
          "base_uri": "https://localhost:8080/"
        },
        "id": "NIJhXcuEy0do",
        "outputId": "063cd57e-3cf1-499d-89fc-3064e8d9c80f"
      },
      "execution_count": 5,
      "outputs": [
        {
          "output_type": "stream",
          "name": "stdout",
          "text": [
            "       No    InvoiceID Branch       City Customertype  Gender  \\\n",
            "992   993  745-74-0715      A     Yangon       Normal    Male   \n",
            "993   994  690-01-6631      B   Mandalay       Normal    Male   \n",
            "994   995  652-49-6720      C  Naypyitaw       Member  Female   \n",
            "995   996  233-67-5758      C  Naypyitaw       Normal    Male   \n",
            "996   997  303-96-2227      B   Mandalay       Normal  Female   \n",
            "997   998  727-02-1313      A     Yangon       Member    Male   \n",
            "998   999  347-56-2442      A     Yangon       Normal    Male   \n",
            "999  1000  849-09-3807      A     Yangon       Member  Female   \n",
            "\n",
            "                Productline  Unitprice  Quantity      Tax      Total  \\\n",
            "992  Electronic accessories      58.03         2   5.8030   121.8630   \n",
            "993     Fashion accessories      17.49        10   8.7450   183.6450   \n",
            "994  Electronic accessories      60.95         1   3.0475    63.9975   \n",
            "995       Health and beauty      40.35         1   2.0175    42.3675   \n",
            "996      Home and lifestyle      97.38        10  48.6900  1022.4900   \n",
            "997      Food and beverages      31.84         1   1.5920    33.4320   \n",
            "998      Home and lifestyle      65.82         1   3.2910    69.1110   \n",
            "999     Fashion accessories      88.34         7  30.9190   649.2990   \n",
            "\n",
            "          Date   Time  Payment    cogs  gross_margin_percentage  \\\n",
            "992  3/10/2019  20:46  Ewallet  116.06                 4.761905   \n",
            "993  2/22/2019  18:35  Ewallet  174.90                 4.761905   \n",
            "994  2/18/2019  11:40  Ewallet   60.95                 4.761905   \n",
            "995  1/29/2019  13:46  Ewallet   40.35                 4.761905   \n",
            "996   3/2/2019  17:16  Ewallet  973.80                 4.761905   \n",
            "997   2/9/2019  13:22     Cash   31.84                 4.761905   \n",
            "998  2/22/2019  15:33     Cash   65.82                 4.761905   \n",
            "999  2/18/2019  13:28     Cash  618.38                 4.761905   \n",
            "\n",
            "     gross_iincome  Rating  \n",
            "992         5.8030     8.8  \n",
            "993         8.7450     6.6  \n",
            "994         3.0475     5.9  \n",
            "995         2.0175     6.2  \n",
            "996        48.6900     4.4  \n",
            "997         1.5920     7.7  \n",
            "998         3.2910     4.1  \n",
            "999        30.9190     6.6  \n"
          ]
        }
      ]
    },
    {
      "cell_type": "code",
      "source": [
        "dataframe.loc[1]"
      ],
      "metadata": {
        "colab": {
          "base_uri": "https://localhost:8080/"
        },
        "id": "N44BBSHEzNPs",
        "outputId": "b4443233-1822-41d0-ade5-6a8c5e6f0af5"
      },
      "execution_count": 7,
      "outputs": [
        {
          "output_type": "execute_result",
          "data": {
            "text/plain": [
              "No                                              2\n",
              "InvoiceID                             226-31-3081\n",
              "Branch                                          C\n",
              "City                                    Naypyitaw\n",
              "Customertype                               Normal\n",
              "Gender                                     Female\n",
              "Productline                Electronic accessories\n",
              "Unitprice                                   15.28\n",
              "Quantity                                        5\n",
              "Tax                                          3.82\n",
              "Total                                       80.22\n",
              "Date                                     3/8/2019\n",
              "Time                                        10:29\n",
              "Payment                                      Cash\n",
              "cogs                                         76.4\n",
              "gross_margin_percentage                  4.761905\n",
              "gross_iincome                                3.82\n",
              "Rating                                        9.6\n",
              "Name: 1, dtype: object"
            ]
          },
          "metadata": {},
          "execution_count": 7
        }
      ]
    },
    {
      "cell_type": "code",
      "source": [
        "dataframe[\"City\"]"
      ],
      "metadata": {
        "colab": {
          "base_uri": "https://localhost:8080/"
        },
        "id": "xiJKkfiUzRv8",
        "outputId": "51a893ab-c295-40c7-b506-f7cb6b0584ff"
      },
      "execution_count": 8,
      "outputs": [
        {
          "output_type": "execute_result",
          "data": {
            "text/plain": [
              "0         Yangon\n",
              "1      Naypyitaw\n",
              "2         Yangon\n",
              "3         Yangon\n",
              "4         Yangon\n",
              "         ...    \n",
              "995    Naypyitaw\n",
              "996     Mandalay\n",
              "997       Yangon\n",
              "998       Yangon\n",
              "999       Yangon\n",
              "Name: City, Length: 1000, dtype: object"
            ]
          },
          "metadata": {},
          "execution_count": 8
        }
      ]
    },
    {
      "cell_type": "code",
      "source": [
        "dataframe[\"City\" and \"Gender\"]"
      ],
      "metadata": {
        "colab": {
          "base_uri": "https://localhost:8080/"
        },
        "id": "rzPcMYdezq2C",
        "outputId": "4d8537b7-c52c-4110-c4fe-39cea8d26935"
      },
      "execution_count": 9,
      "outputs": [
        {
          "output_type": "execute_result",
          "data": {
            "text/plain": [
              "0      Female\n",
              "1      Female\n",
              "2        Male\n",
              "3        Male\n",
              "4        Male\n",
              "        ...  \n",
              "995      Male\n",
              "996    Female\n",
              "997      Male\n",
              "998      Male\n",
              "999    Female\n",
              "Name: Gender, Length: 1000, dtype: object"
            ]
          },
          "metadata": {},
          "execution_count": 9
        }
      ]
    },
    {
      "cell_type": "code",
      "source": [
        "dataframe=dataframe.drop(['Tax'],axis=1)\n",
        "dataframe.head(4)"
      ],
      "metadata": {
        "colab": {
          "base_uri": "https://localhost:8080/",
          "height": 259
        },
        "id": "qim1BoW1z9K3",
        "outputId": "53cfc33f-7bf8-4d95-bde4-58f6c19e09cb"
      },
      "execution_count": 11,
      "outputs": [
        {
          "output_type": "execute_result",
          "data": {
            "text/plain": [
              "   No    InvoiceID Branch       City Customertype  Gender  \\\n",
              "0   1  750-67-8428      A     Yangon       Member  Female   \n",
              "1   2  226-31-3081      C  Naypyitaw       Normal  Female   \n",
              "2   3  631-41-3108      A     Yangon       Normal    Male   \n",
              "3   4  123-19-1176      A     Yangon       Member    Male   \n",
              "\n",
              "              Productline  Unitprice  Quantity     Total       Date   Time  \\\n",
              "0       Health and beauty      74.69         7  548.9715   1/5/2019  13:08   \n",
              "1  Electronic accessories      15.28         5   80.2200   3/8/2019  10:29   \n",
              "2      Home and lifestyle      46.33         7  340.5255   3/3/2019  13:23   \n",
              "3       Health and beauty      58.22         8  489.0480  1/27/2019  20:33   \n",
              "\n",
              "       Payment    cogs  gross_margin_percentage  gross_iincome  Rating  \n",
              "0      Ewallet  522.83                 4.761905        26.1415     9.1  \n",
              "1         Cash   76.40                 4.761905         3.8200     9.6  \n",
              "2  Credit card  324.31                 4.761905        16.2155     7.4  \n",
              "3      Ewallet  465.76                 4.761905        23.2880     8.4  "
            ],
            "text/html": [
              "\n",
              "  <div id=\"df-3f84f2b3-96f0-49f4-8efd-23c79f37d970\">\n",
              "    <div class=\"colab-df-container\">\n",
              "      <div>\n",
              "<style scoped>\n",
              "    .dataframe tbody tr th:only-of-type {\n",
              "        vertical-align: middle;\n",
              "    }\n",
              "\n",
              "    .dataframe tbody tr th {\n",
              "        vertical-align: top;\n",
              "    }\n",
              "\n",
              "    .dataframe thead th {\n",
              "        text-align: right;\n",
              "    }\n",
              "</style>\n",
              "<table border=\"1\" class=\"dataframe\">\n",
              "  <thead>\n",
              "    <tr style=\"text-align: right;\">\n",
              "      <th></th>\n",
              "      <th>No</th>\n",
              "      <th>InvoiceID</th>\n",
              "      <th>Branch</th>\n",
              "      <th>City</th>\n",
              "      <th>Customertype</th>\n",
              "      <th>Gender</th>\n",
              "      <th>Productline</th>\n",
              "      <th>Unitprice</th>\n",
              "      <th>Quantity</th>\n",
              "      <th>Total</th>\n",
              "      <th>Date</th>\n",
              "      <th>Time</th>\n",
              "      <th>Payment</th>\n",
              "      <th>cogs</th>\n",
              "      <th>gross_margin_percentage</th>\n",
              "      <th>gross_iincome</th>\n",
              "      <th>Rating</th>\n",
              "    </tr>\n",
              "  </thead>\n",
              "  <tbody>\n",
              "    <tr>\n",
              "      <th>0</th>\n",
              "      <td>1</td>\n",
              "      <td>750-67-8428</td>\n",
              "      <td>A</td>\n",
              "      <td>Yangon</td>\n",
              "      <td>Member</td>\n",
              "      <td>Female</td>\n",
              "      <td>Health and beauty</td>\n",
              "      <td>74.69</td>\n",
              "      <td>7</td>\n",
              "      <td>548.9715</td>\n",
              "      <td>1/5/2019</td>\n",
              "      <td>13:08</td>\n",
              "      <td>Ewallet</td>\n",
              "      <td>522.83</td>\n",
              "      <td>4.761905</td>\n",
              "      <td>26.1415</td>\n",
              "      <td>9.1</td>\n",
              "    </tr>\n",
              "    <tr>\n",
              "      <th>1</th>\n",
              "      <td>2</td>\n",
              "      <td>226-31-3081</td>\n",
              "      <td>C</td>\n",
              "      <td>Naypyitaw</td>\n",
              "      <td>Normal</td>\n",
              "      <td>Female</td>\n",
              "      <td>Electronic accessories</td>\n",
              "      <td>15.28</td>\n",
              "      <td>5</td>\n",
              "      <td>80.2200</td>\n",
              "      <td>3/8/2019</td>\n",
              "      <td>10:29</td>\n",
              "      <td>Cash</td>\n",
              "      <td>76.40</td>\n",
              "      <td>4.761905</td>\n",
              "      <td>3.8200</td>\n",
              "      <td>9.6</td>\n",
              "    </tr>\n",
              "    <tr>\n",
              "      <th>2</th>\n",
              "      <td>3</td>\n",
              "      <td>631-41-3108</td>\n",
              "      <td>A</td>\n",
              "      <td>Yangon</td>\n",
              "      <td>Normal</td>\n",
              "      <td>Male</td>\n",
              "      <td>Home and lifestyle</td>\n",
              "      <td>46.33</td>\n",
              "      <td>7</td>\n",
              "      <td>340.5255</td>\n",
              "      <td>3/3/2019</td>\n",
              "      <td>13:23</td>\n",
              "      <td>Credit card</td>\n",
              "      <td>324.31</td>\n",
              "      <td>4.761905</td>\n",
              "      <td>16.2155</td>\n",
              "      <td>7.4</td>\n",
              "    </tr>\n",
              "    <tr>\n",
              "      <th>3</th>\n",
              "      <td>4</td>\n",
              "      <td>123-19-1176</td>\n",
              "      <td>A</td>\n",
              "      <td>Yangon</td>\n",
              "      <td>Member</td>\n",
              "      <td>Male</td>\n",
              "      <td>Health and beauty</td>\n",
              "      <td>58.22</td>\n",
              "      <td>8</td>\n",
              "      <td>489.0480</td>\n",
              "      <td>1/27/2019</td>\n",
              "      <td>20:33</td>\n",
              "      <td>Ewallet</td>\n",
              "      <td>465.76</td>\n",
              "      <td>4.761905</td>\n",
              "      <td>23.2880</td>\n",
              "      <td>8.4</td>\n",
              "    </tr>\n",
              "  </tbody>\n",
              "</table>\n",
              "</div>\n",
              "      <button class=\"colab-df-convert\" onclick=\"convertToInteractive('df-3f84f2b3-96f0-49f4-8efd-23c79f37d970')\"\n",
              "              title=\"Convert this dataframe to an interactive table.\"\n",
              "              style=\"display:none;\">\n",
              "        \n",
              "  <svg xmlns=\"http://www.w3.org/2000/svg\" height=\"24px\"viewBox=\"0 0 24 24\"\n",
              "       width=\"24px\">\n",
              "    <path d=\"M0 0h24v24H0V0z\" fill=\"none\"/>\n",
              "    <path d=\"M18.56 5.44l.94 2.06.94-2.06 2.06-.94-2.06-.94-.94-2.06-.94 2.06-2.06.94zm-11 1L8.5 8.5l.94-2.06 2.06-.94-2.06-.94L8.5 2.5l-.94 2.06-2.06.94zm10 10l.94 2.06.94-2.06 2.06-.94-2.06-.94-.94-2.06-.94 2.06-2.06.94z\"/><path d=\"M17.41 7.96l-1.37-1.37c-.4-.4-.92-.59-1.43-.59-.52 0-1.04.2-1.43.59L10.3 9.45l-7.72 7.72c-.78.78-.78 2.05 0 2.83L4 21.41c.39.39.9.59 1.41.59.51 0 1.02-.2 1.41-.59l7.78-7.78 2.81-2.81c.8-.78.8-2.07 0-2.86zM5.41 20L4 18.59l7.72-7.72 1.47 1.35L5.41 20z\"/>\n",
              "  </svg>\n",
              "      </button>\n",
              "      \n",
              "  <style>\n",
              "    .colab-df-container {\n",
              "      display:flex;\n",
              "      flex-wrap:wrap;\n",
              "      gap: 12px;\n",
              "    }\n",
              "\n",
              "    .colab-df-convert {\n",
              "      background-color: #E8F0FE;\n",
              "      border: none;\n",
              "      border-radius: 50%;\n",
              "      cursor: pointer;\n",
              "      display: none;\n",
              "      fill: #1967D2;\n",
              "      height: 32px;\n",
              "      padding: 0 0 0 0;\n",
              "      width: 32px;\n",
              "    }\n",
              "\n",
              "    .colab-df-convert:hover {\n",
              "      background-color: #E2EBFA;\n",
              "      box-shadow: 0px 1px 2px rgba(60, 64, 67, 0.3), 0px 1px 3px 1px rgba(60, 64, 67, 0.15);\n",
              "      fill: #174EA6;\n",
              "    }\n",
              "\n",
              "    [theme=dark] .colab-df-convert {\n",
              "      background-color: #3B4455;\n",
              "      fill: #D2E3FC;\n",
              "    }\n",
              "\n",
              "    [theme=dark] .colab-df-convert:hover {\n",
              "      background-color: #434B5C;\n",
              "      box-shadow: 0px 1px 3px 1px rgba(0, 0, 0, 0.15);\n",
              "      filter: drop-shadow(0px 1px 2px rgba(0, 0, 0, 0.3));\n",
              "      fill: #FFFFFF;\n",
              "    }\n",
              "  </style>\n",
              "\n",
              "      <script>\n",
              "        const buttonEl =\n",
              "          document.querySelector('#df-3f84f2b3-96f0-49f4-8efd-23c79f37d970 button.colab-df-convert');\n",
              "        buttonEl.style.display =\n",
              "          google.colab.kernel.accessAllowed ? 'block' : 'none';\n",
              "\n",
              "        async function convertToInteractive(key) {\n",
              "          const element = document.querySelector('#df-3f84f2b3-96f0-49f4-8efd-23c79f37d970');\n",
              "          const dataTable =\n",
              "            await google.colab.kernel.invokeFunction('convertToInteractive',\n",
              "                                                     [key], {});\n",
              "          if (!dataTable) return;\n",
              "\n",
              "          const docLinkHtml = 'Like what you see? Visit the ' +\n",
              "            '<a target=\"_blank\" href=https://colab.research.google.com/notebooks/data_table.ipynb>data table notebook</a>'\n",
              "            + ' to learn more about interactive tables.';\n",
              "          element.innerHTML = '';\n",
              "          dataTable['output_type'] = 'display_data';\n",
              "          await google.colab.output.renderOutput(dataTable, element);\n",
              "          const docLink = document.createElement('div');\n",
              "          docLink.innerHTML = docLinkHtml;\n",
              "          element.appendChild(docLink);\n",
              "        }\n",
              "      </script>\n",
              "    </div>\n",
              "  </div>\n",
              "  "
            ]
          },
          "metadata": {},
          "execution_count": 11
        }
      ]
    },
    {
      "cell_type": "code",
      "source": [
        "dataframe.loc[dataframe[\"Customertype\"]==\"Normal\"]"
      ],
      "metadata": {
        "colab": {
          "base_uri": "https://localhost:8080/",
          "height": 661
        },
        "id": "SodDPWrH4ywn",
        "outputId": "3965c361-3002-42dd-bc2d-50402865e33b"
      },
      "execution_count": 19,
      "outputs": [
        {
          "output_type": "execute_result",
          "data": {
            "text/plain": [
              "      No    InvoiceID Branch       City Customertype  Gender  \\\n",
              "1      2  226-31-3081      C  Naypyitaw       Normal  Female   \n",
              "2      3  631-41-3108      A     Yangon       Normal    Male   \n",
              "4      5  373-73-7910      A     Yangon       Normal    Male   \n",
              "7      8  315-22-5665      C  Naypyitaw       Normal  Female   \n",
              "12    13  365-64-0515      A     Yangon       Normal  Female   \n",
              "..   ...          ...    ...        ...          ...     ...   \n",
              "992  993  745-74-0715      A     Yangon       Normal    Male   \n",
              "993  994  690-01-6631      B   Mandalay       Normal    Male   \n",
              "995  996  233-67-5758      C  Naypyitaw       Normal    Male   \n",
              "996  997  303-96-2227      B   Mandalay       Normal  Female   \n",
              "998  999  347-56-2442      A     Yangon       Normal    Male   \n",
              "\n",
              "                Productline  Unitprice  Quantity      Total       Date   Time  \\\n",
              "1    Electronic accessories      15.28         5    80.2200   3/8/2019  10:29   \n",
              "2        Home and lifestyle      46.33         7   340.5255   3/3/2019  13:23   \n",
              "4         Sports and travel      86.31         7   634.3785   2/8/2019  10:37   \n",
              "7        Home and lifestyle      73.56        10   772.3800  2/24/2019  11:38   \n",
              "12   Electronic accessories      46.95         5   246.4875  2/12/2019  10:25   \n",
              "..                      ...        ...       ...        ...        ...    ...   \n",
              "992  Electronic accessories      58.03         2   121.8630  3/10/2019  20:46   \n",
              "993     Fashion accessories      17.49        10   183.6450  2/22/2019  18:35   \n",
              "995       Health and beauty      40.35         1    42.3675  1/29/2019  13:46   \n",
              "996      Home and lifestyle      97.38        10  1022.4900   3/2/2019  17:16   \n",
              "998      Home and lifestyle      65.82         1    69.1110  2/22/2019  15:33   \n",
              "\n",
              "         Payment    cogs  gross_margin_percentage  gross_iincome  Rating  \n",
              "1           Cash   76.40                 4.761905         3.8200     9.6  \n",
              "2    Credit card  324.31                 4.761905        16.2155     7.4  \n",
              "4        Ewallet  604.17                 4.761905        30.2085     5.3  \n",
              "7        Ewallet  735.60                 4.761905        36.7800     8.0  \n",
              "12       Ewallet  234.75                 4.761905        11.7375     7.1  \n",
              "..           ...     ...                      ...            ...     ...  \n",
              "992      Ewallet  116.06                 4.761905         5.8030     8.8  \n",
              "993      Ewallet  174.90                 4.761905         8.7450     6.6  \n",
              "995      Ewallet   40.35                 4.761905         2.0175     6.2  \n",
              "996      Ewallet  973.80                 4.761905        48.6900     4.4  \n",
              "998         Cash   65.82                 4.761905         3.2910     4.1  \n",
              "\n",
              "[498 rows x 17 columns]"
            ],
            "text/html": [
              "\n",
              "  <div id=\"df-bf1d65d4-0f8f-47d8-a685-930287d2c3a9\">\n",
              "    <div class=\"colab-df-container\">\n",
              "      <div>\n",
              "<style scoped>\n",
              "    .dataframe tbody tr th:only-of-type {\n",
              "        vertical-align: middle;\n",
              "    }\n",
              "\n",
              "    .dataframe tbody tr th {\n",
              "        vertical-align: top;\n",
              "    }\n",
              "\n",
              "    .dataframe thead th {\n",
              "        text-align: right;\n",
              "    }\n",
              "</style>\n",
              "<table border=\"1\" class=\"dataframe\">\n",
              "  <thead>\n",
              "    <tr style=\"text-align: right;\">\n",
              "      <th></th>\n",
              "      <th>No</th>\n",
              "      <th>InvoiceID</th>\n",
              "      <th>Branch</th>\n",
              "      <th>City</th>\n",
              "      <th>Customertype</th>\n",
              "      <th>Gender</th>\n",
              "      <th>Productline</th>\n",
              "      <th>Unitprice</th>\n",
              "      <th>Quantity</th>\n",
              "      <th>Total</th>\n",
              "      <th>Date</th>\n",
              "      <th>Time</th>\n",
              "      <th>Payment</th>\n",
              "      <th>cogs</th>\n",
              "      <th>gross_margin_percentage</th>\n",
              "      <th>gross_iincome</th>\n",
              "      <th>Rating</th>\n",
              "    </tr>\n",
              "  </thead>\n",
              "  <tbody>\n",
              "    <tr>\n",
              "      <th>1</th>\n",
              "      <td>2</td>\n",
              "      <td>226-31-3081</td>\n",
              "      <td>C</td>\n",
              "      <td>Naypyitaw</td>\n",
              "      <td>Normal</td>\n",
              "      <td>Female</td>\n",
              "      <td>Electronic accessories</td>\n",
              "      <td>15.28</td>\n",
              "      <td>5</td>\n",
              "      <td>80.2200</td>\n",
              "      <td>3/8/2019</td>\n",
              "      <td>10:29</td>\n",
              "      <td>Cash</td>\n",
              "      <td>76.40</td>\n",
              "      <td>4.761905</td>\n",
              "      <td>3.8200</td>\n",
              "      <td>9.6</td>\n",
              "    </tr>\n",
              "    <tr>\n",
              "      <th>2</th>\n",
              "      <td>3</td>\n",
              "      <td>631-41-3108</td>\n",
              "      <td>A</td>\n",
              "      <td>Yangon</td>\n",
              "      <td>Normal</td>\n",
              "      <td>Male</td>\n",
              "      <td>Home and lifestyle</td>\n",
              "      <td>46.33</td>\n",
              "      <td>7</td>\n",
              "      <td>340.5255</td>\n",
              "      <td>3/3/2019</td>\n",
              "      <td>13:23</td>\n",
              "      <td>Credit card</td>\n",
              "      <td>324.31</td>\n",
              "      <td>4.761905</td>\n",
              "      <td>16.2155</td>\n",
              "      <td>7.4</td>\n",
              "    </tr>\n",
              "    <tr>\n",
              "      <th>4</th>\n",
              "      <td>5</td>\n",
              "      <td>373-73-7910</td>\n",
              "      <td>A</td>\n",
              "      <td>Yangon</td>\n",
              "      <td>Normal</td>\n",
              "      <td>Male</td>\n",
              "      <td>Sports and travel</td>\n",
              "      <td>86.31</td>\n",
              "      <td>7</td>\n",
              "      <td>634.3785</td>\n",
              "      <td>2/8/2019</td>\n",
              "      <td>10:37</td>\n",
              "      <td>Ewallet</td>\n",
              "      <td>604.17</td>\n",
              "      <td>4.761905</td>\n",
              "      <td>30.2085</td>\n",
              "      <td>5.3</td>\n",
              "    </tr>\n",
              "    <tr>\n",
              "      <th>7</th>\n",
              "      <td>8</td>\n",
              "      <td>315-22-5665</td>\n",
              "      <td>C</td>\n",
              "      <td>Naypyitaw</td>\n",
              "      <td>Normal</td>\n",
              "      <td>Female</td>\n",
              "      <td>Home and lifestyle</td>\n",
              "      <td>73.56</td>\n",
              "      <td>10</td>\n",
              "      <td>772.3800</td>\n",
              "      <td>2/24/2019</td>\n",
              "      <td>11:38</td>\n",
              "      <td>Ewallet</td>\n",
              "      <td>735.60</td>\n",
              "      <td>4.761905</td>\n",
              "      <td>36.7800</td>\n",
              "      <td>8.0</td>\n",
              "    </tr>\n",
              "    <tr>\n",
              "      <th>12</th>\n",
              "      <td>13</td>\n",
              "      <td>365-64-0515</td>\n",
              "      <td>A</td>\n",
              "      <td>Yangon</td>\n",
              "      <td>Normal</td>\n",
              "      <td>Female</td>\n",
              "      <td>Electronic accessories</td>\n",
              "      <td>46.95</td>\n",
              "      <td>5</td>\n",
              "      <td>246.4875</td>\n",
              "      <td>2/12/2019</td>\n",
              "      <td>10:25</td>\n",
              "      <td>Ewallet</td>\n",
              "      <td>234.75</td>\n",
              "      <td>4.761905</td>\n",
              "      <td>11.7375</td>\n",
              "      <td>7.1</td>\n",
              "    </tr>\n",
              "    <tr>\n",
              "      <th>...</th>\n",
              "      <td>...</td>\n",
              "      <td>...</td>\n",
              "      <td>...</td>\n",
              "      <td>...</td>\n",
              "      <td>...</td>\n",
              "      <td>...</td>\n",
              "      <td>...</td>\n",
              "      <td>...</td>\n",
              "      <td>...</td>\n",
              "      <td>...</td>\n",
              "      <td>...</td>\n",
              "      <td>...</td>\n",
              "      <td>...</td>\n",
              "      <td>...</td>\n",
              "      <td>...</td>\n",
              "      <td>...</td>\n",
              "      <td>...</td>\n",
              "    </tr>\n",
              "    <tr>\n",
              "      <th>992</th>\n",
              "      <td>993</td>\n",
              "      <td>745-74-0715</td>\n",
              "      <td>A</td>\n",
              "      <td>Yangon</td>\n",
              "      <td>Normal</td>\n",
              "      <td>Male</td>\n",
              "      <td>Electronic accessories</td>\n",
              "      <td>58.03</td>\n",
              "      <td>2</td>\n",
              "      <td>121.8630</td>\n",
              "      <td>3/10/2019</td>\n",
              "      <td>20:46</td>\n",
              "      <td>Ewallet</td>\n",
              "      <td>116.06</td>\n",
              "      <td>4.761905</td>\n",
              "      <td>5.8030</td>\n",
              "      <td>8.8</td>\n",
              "    </tr>\n",
              "    <tr>\n",
              "      <th>993</th>\n",
              "      <td>994</td>\n",
              "      <td>690-01-6631</td>\n",
              "      <td>B</td>\n",
              "      <td>Mandalay</td>\n",
              "      <td>Normal</td>\n",
              "      <td>Male</td>\n",
              "      <td>Fashion accessories</td>\n",
              "      <td>17.49</td>\n",
              "      <td>10</td>\n",
              "      <td>183.6450</td>\n",
              "      <td>2/22/2019</td>\n",
              "      <td>18:35</td>\n",
              "      <td>Ewallet</td>\n",
              "      <td>174.90</td>\n",
              "      <td>4.761905</td>\n",
              "      <td>8.7450</td>\n",
              "      <td>6.6</td>\n",
              "    </tr>\n",
              "    <tr>\n",
              "      <th>995</th>\n",
              "      <td>996</td>\n",
              "      <td>233-67-5758</td>\n",
              "      <td>C</td>\n",
              "      <td>Naypyitaw</td>\n",
              "      <td>Normal</td>\n",
              "      <td>Male</td>\n",
              "      <td>Health and beauty</td>\n",
              "      <td>40.35</td>\n",
              "      <td>1</td>\n",
              "      <td>42.3675</td>\n",
              "      <td>1/29/2019</td>\n",
              "      <td>13:46</td>\n",
              "      <td>Ewallet</td>\n",
              "      <td>40.35</td>\n",
              "      <td>4.761905</td>\n",
              "      <td>2.0175</td>\n",
              "      <td>6.2</td>\n",
              "    </tr>\n",
              "    <tr>\n",
              "      <th>996</th>\n",
              "      <td>997</td>\n",
              "      <td>303-96-2227</td>\n",
              "      <td>B</td>\n",
              "      <td>Mandalay</td>\n",
              "      <td>Normal</td>\n",
              "      <td>Female</td>\n",
              "      <td>Home and lifestyle</td>\n",
              "      <td>97.38</td>\n",
              "      <td>10</td>\n",
              "      <td>1022.4900</td>\n",
              "      <td>3/2/2019</td>\n",
              "      <td>17:16</td>\n",
              "      <td>Ewallet</td>\n",
              "      <td>973.80</td>\n",
              "      <td>4.761905</td>\n",
              "      <td>48.6900</td>\n",
              "      <td>4.4</td>\n",
              "    </tr>\n",
              "    <tr>\n",
              "      <th>998</th>\n",
              "      <td>999</td>\n",
              "      <td>347-56-2442</td>\n",
              "      <td>A</td>\n",
              "      <td>Yangon</td>\n",
              "      <td>Normal</td>\n",
              "      <td>Male</td>\n",
              "      <td>Home and lifestyle</td>\n",
              "      <td>65.82</td>\n",
              "      <td>1</td>\n",
              "      <td>69.1110</td>\n",
              "      <td>2/22/2019</td>\n",
              "      <td>15:33</td>\n",
              "      <td>Cash</td>\n",
              "      <td>65.82</td>\n",
              "      <td>4.761905</td>\n",
              "      <td>3.2910</td>\n",
              "      <td>4.1</td>\n",
              "    </tr>\n",
              "  </tbody>\n",
              "</table>\n",
              "<p>498 rows × 17 columns</p>\n",
              "</div>\n",
              "      <button class=\"colab-df-convert\" onclick=\"convertToInteractive('df-bf1d65d4-0f8f-47d8-a685-930287d2c3a9')\"\n",
              "              title=\"Convert this dataframe to an interactive table.\"\n",
              "              style=\"display:none;\">\n",
              "        \n",
              "  <svg xmlns=\"http://www.w3.org/2000/svg\" height=\"24px\"viewBox=\"0 0 24 24\"\n",
              "       width=\"24px\">\n",
              "    <path d=\"M0 0h24v24H0V0z\" fill=\"none\"/>\n",
              "    <path d=\"M18.56 5.44l.94 2.06.94-2.06 2.06-.94-2.06-.94-.94-2.06-.94 2.06-2.06.94zm-11 1L8.5 8.5l.94-2.06 2.06-.94-2.06-.94L8.5 2.5l-.94 2.06-2.06.94zm10 10l.94 2.06.94-2.06 2.06-.94-2.06-.94-.94-2.06-.94 2.06-2.06.94z\"/><path d=\"M17.41 7.96l-1.37-1.37c-.4-.4-.92-.59-1.43-.59-.52 0-1.04.2-1.43.59L10.3 9.45l-7.72 7.72c-.78.78-.78 2.05 0 2.83L4 21.41c.39.39.9.59 1.41.59.51 0 1.02-.2 1.41-.59l7.78-7.78 2.81-2.81c.8-.78.8-2.07 0-2.86zM5.41 20L4 18.59l7.72-7.72 1.47 1.35L5.41 20z\"/>\n",
              "  </svg>\n",
              "      </button>\n",
              "      \n",
              "  <style>\n",
              "    .colab-df-container {\n",
              "      display:flex;\n",
              "      flex-wrap:wrap;\n",
              "      gap: 12px;\n",
              "    }\n",
              "\n",
              "    .colab-df-convert {\n",
              "      background-color: #E8F0FE;\n",
              "      border: none;\n",
              "      border-radius: 50%;\n",
              "      cursor: pointer;\n",
              "      display: none;\n",
              "      fill: #1967D2;\n",
              "      height: 32px;\n",
              "      padding: 0 0 0 0;\n",
              "      width: 32px;\n",
              "    }\n",
              "\n",
              "    .colab-df-convert:hover {\n",
              "      background-color: #E2EBFA;\n",
              "      box-shadow: 0px 1px 2px rgba(60, 64, 67, 0.3), 0px 1px 3px 1px rgba(60, 64, 67, 0.15);\n",
              "      fill: #174EA6;\n",
              "    }\n",
              "\n",
              "    [theme=dark] .colab-df-convert {\n",
              "      background-color: #3B4455;\n",
              "      fill: #D2E3FC;\n",
              "    }\n",
              "\n",
              "    [theme=dark] .colab-df-convert:hover {\n",
              "      background-color: #434B5C;\n",
              "      box-shadow: 0px 1px 3px 1px rgba(0, 0, 0, 0.15);\n",
              "      filter: drop-shadow(0px 1px 2px rgba(0, 0, 0, 0.3));\n",
              "      fill: #FFFFFF;\n",
              "    }\n",
              "  </style>\n",
              "\n",
              "      <script>\n",
              "        const buttonEl =\n",
              "          document.querySelector('#df-bf1d65d4-0f8f-47d8-a685-930287d2c3a9 button.colab-df-convert');\n",
              "        buttonEl.style.display =\n",
              "          google.colab.kernel.accessAllowed ? 'block' : 'none';\n",
              "\n",
              "        async function convertToInteractive(key) {\n",
              "          const element = document.querySelector('#df-bf1d65d4-0f8f-47d8-a685-930287d2c3a9');\n",
              "          const dataTable =\n",
              "            await google.colab.kernel.invokeFunction('convertToInteractive',\n",
              "                                                     [key], {});\n",
              "          if (!dataTable) return;\n",
              "\n",
              "          const docLinkHtml = 'Like what you see? Visit the ' +\n",
              "            '<a target=\"_blank\" href=https://colab.research.google.com/notebooks/data_table.ipynb>data table notebook</a>'\n",
              "            + ' to learn more about interactive tables.';\n",
              "          element.innerHTML = '';\n",
              "          dataTable['output_type'] = 'display_data';\n",
              "          await google.colab.output.renderOutput(dataTable, element);\n",
              "          const docLink = document.createElement('div');\n",
              "          docLink.innerHTML = docLinkHtml;\n",
              "          element.appendChild(docLink);\n",
              "        }\n",
              "      </script>\n",
              "    </div>\n",
              "  </div>\n",
              "  "
            ]
          },
          "metadata": {},
          "execution_count": 19
        }
      ]
    },
    {
      "cell_type": "code",
      "source": [
        "import numpy as np"
      ],
      "metadata": {
        "id": "nJHemtm48vZC"
      },
      "execution_count": 20,
      "outputs": []
    },
    {
      "cell_type": "code",
      "source": [
        "student_marks_BA=[12,14,10]\n",
        "marksarray=np.array(student_marks_BA)\n",
        "print(marksarray)"
      ],
      "metadata": {
        "colab": {
          "base_uri": "https://localhost:8080/"
        },
        "id": "eEN6zW3f8_LP",
        "outputId": "cb586880-34b3-4f99-a3c1-7765013fc36e"
      },
      "execution_count": 21,
      "outputs": [
        {
          "output_type": "stream",
          "name": "stdout",
          "text": [
            "[12 14 10]\n"
          ]
        }
      ]
    },
    {
      "cell_type": "code",
      "source": [
        "import numpy as np\n",
        "student_marks=[[12,14],[15,20],[15,19],[12,14]]\n",
        "marksarray=np.array(student_marks)\n",
        "print(marksarray)"
      ],
      "metadata": {
        "colab": {
          "base_uri": "https://localhost:8080/"
        },
        "id": "r16ocXZ49VCm",
        "outputId": "78648cd7-862e-4f91-e974-484e5cc2a4a8"
      },
      "execution_count": 23,
      "outputs": [
        {
          "output_type": "stream",
          "name": "stdout",
          "text": [
            "[[12 14]\n",
            " [15 20]\n",
            " [15 19]\n",
            " [12 14]]\n"
          ]
        }
      ]
    },
    {
      "cell_type": "code",
      "source": [
        "\n",
        "import numpy as np\n",
        "values=np.arange(1,11)\n",
        "print(values)"
      ],
      "metadata": {
        "colab": {
          "base_uri": "https://localhost:8080/"
        },
        "id": "sYdltsQw-CDP",
        "outputId": "b5a27694-1931-4540-a669-c2e65506372b"
      },
      "execution_count": 28,
      "outputs": [
        {
          "output_type": "stream",
          "name": "stdout",
          "text": [
            "[ 1  2  3  4  5  6  7  8  9 10]\n"
          ]
        }
      ]
    },
    {
      "cell_type": "code",
      "source": [
        "zeroarray=np.zeros(5)\n",
        "print(zeroarray)"
      ],
      "metadata": {
        "colab": {
          "base_uri": "https://localhost:8080/"
        },
        "id": "ZUwtIJaCAJDW",
        "outputId": "d894f46c-77db-41f7-eec3-bdc199cba69e"
      },
      "execution_count": 29,
      "outputs": [
        {
          "output_type": "stream",
          "name": "stdout",
          "text": [
            "[0. 0. 0. 0. 0.]\n"
          ]
        }
      ]
    },
    {
      "cell_type": "code",
      "source": [
        "zeroarray=np.zeros((2,6))\n",
        "print(zeroarray)"
      ],
      "metadata": {
        "colab": {
          "base_uri": "https://localhost:8080/"
        },
        "id": "PHjxkWvcBc3L",
        "outputId": "48b81eee-8053-43fc-f90d-f721c319fa7b"
      },
      "execution_count": 30,
      "outputs": [
        {
          "output_type": "stream",
          "name": "stdout",
          "text": [
            "[[0. 0. 0. 0. 0. 0.]\n",
            " [0. 0. 0. 0. 0. 0.]]\n"
          ]
        }
      ]
    },
    {
      "cell_type": "code",
      "source": [
        "onesarray=np.ones(5)\n",
        "print(onesarray)"
      ],
      "metadata": {
        "colab": {
          "base_uri": "https://localhost:8080/"
        },
        "id": "-6NvO51yBt-T",
        "outputId": "dfaefe04-788a-4662-8bf1-b9b28af815a1"
      },
      "execution_count": 31,
      "outputs": [
        {
          "output_type": "stream",
          "name": "stdout",
          "text": [
            "[1. 1. 1. 1. 1.]\n"
          ]
        }
      ]
    },
    {
      "cell_type": "code",
      "source": [
        "len(zeroarray)"
      ],
      "metadata": {
        "colab": {
          "base_uri": "https://localhost:8080/"
        },
        "id": "chDqTiFhC1fZ",
        "outputId": "b072e706-955d-4610-e697-9c14878f6f5b"
      },
      "execution_count": 33,
      "outputs": [
        {
          "output_type": "execute_result",
          "data": {
            "text/plain": [
              "2"
            ]
          },
          "metadata": {},
          "execution_count": 33
        }
      ]
    },
    {
      "cell_type": "code",
      "source": [
        "firstarray=np.array([[10,20,30,40],[2,4,6,8],[5,10,15,20]])\n",
        "print(firstarray.shape)\n",
        "secondarray=firstarray.reshape(4,3)\n",
        "print "
      ],
      "metadata": {
        "id": "3i9TzztPDjha"
      },
      "execution_count": null,
      "outputs": []
    },
    {
      "cell_type": "code",
      "source": [
        "values=np.random.randint(1,3,5)\n",
        "print(values)"
      ],
      "metadata": {
        "colab": {
          "base_uri": "https://localhost:8080/"
        },
        "id": "DlhteEviGfMb",
        "outputId": "d4a28346-6cc9-4a00-840a-7c77a0ff5dca"
      },
      "execution_count": 34,
      "outputs": [
        {
          "output_type": "stream",
          "name": "stdout",
          "text": [
            "[1 1 1 2 2]\n"
          ]
        }
      ]
    },
    {
      "cell_type": "code",
      "source": [
        "values=np.random.randint(1,20,8)\n",
        "print(values)"
      ],
      "metadata": {
        "colab": {
          "base_uri": "https://localhost:8080/"
        },
        "id": "ZZ82IiSiGoJz",
        "outputId": "51d95a51-a51f-4aaa-d50e-626b09ed9883"
      },
      "execution_count": 36,
      "outputs": [
        {
          "output_type": "stream",
          "name": "stdout",
          "text": [
            "[ 8  1 11  4 15  5 17  9]\n"
          ]
        }
      ]
    },
    {
      "cell_type": "code",
      "source": [
        "randshaped=np.random.randint(1,20,(5,3))\n",
        "print(randshaped)"
      ],
      "metadata": {
        "colab": {
          "base_uri": "https://localhost:8080/"
        },
        "id": "AKNXJJq8Gzlo",
        "outputId": "36589a6e-f9bc-4567-b735-ba5df302d103"
      },
      "execution_count": 37,
      "outputs": [
        {
          "output_type": "stream",
          "name": "stdout",
          "text": [
            "[[13 17  1]\n",
            " [10 17 12]\n",
            " [15 13 16]\n",
            " [ 8  1  2]\n",
            " [ 7 16  2]]\n"
          ]
        }
      ]
    },
    {
      "cell_type": "code",
      "source": [],
      "metadata": {
        "id": "uu_YiAaQHkpx"
      },
      "execution_count": null,
      "outputs": []
    }
  ]
}